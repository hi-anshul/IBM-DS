{
 "cells": [
  {
   "cell_type": "markdown",
   "id": "9989f19b-e42f-4250-a8cd-bf17de9b0909",
   "metadata": {},
   "source": [
    "Title: Peer Graded Assignment"
   ]
  },
  {
   "cell_type": "markdown",
   "id": "628ab139-063b-4d51-8e60-148b14484b73",
   "metadata": {},
   "source": [
    "In this notebook, we will explore key concepts and tools in Data Science. We will cover various programming languages, libraries, and tools that are essential for data analysis and machine learning."
   ]
  },
  {
   "cell_type": "markdown",
   "id": "8c426d95-1a35-4074-a9f3-5a13f8b098ad",
   "metadata": {},
   "source": [
    "## Data Science Languages\n",
    "\n",
    "The following programming languages are commonly used in Data Science:\n",
    "\n",
    "- Python\n",
    "- R\n",
    "- SQL\n",
    "- Julia\n",
    "- Scala"
   ]
  },
  {
   "attachments": {},
   "cell_type": "markdown",
   "id": "f9925c8c-c1d6-4a36-9665-2f38e3983b62",
   "metadata": {},
   "source": [
    "## Data Science Libraries\n",
    "\n",
    "Here are some popular libraries used in Data Science:\n",
    "\n",
    "- **Python Libraries:**\n",
    "  - NumPy\n",
    "  - Pandas\n",
    "  - Matplotlib\n",
    "  - Scikit-learn\n",
    "  - TensorFlow\n",
    "  - Keras\n",
    "  \n",
    "- **R Libraries:**\n",
    "  - ggplot2\n",
    "  - dplyr\n",
    "  - tidyr\n",
    "  - caret"
   ]
  },
  {
   "cell_type": "markdown",
   "id": "3cbb5afb-888d-4a17-8679-259165c6099a",
   "metadata": {},
   "source": [
    "## Data Science Tools\n",
    "\n",
    "| Tool        | Description                         |\n",
    "|-------------|-------------------------------------|\n",
    "| Jupyter     | Interactive computing environment   |\n",
    "| RStudio     | IDE for R programming                |\n",
    "| Anaconda    | Python distribution for data science |\n",
    "| Tableau     | Data visualization tool              |\n",
    "| GitHub      | Version control and collaboration    |"
   ]
  },
  {
   "cell_type": "markdown",
   "id": "80961028-806f-4d39-be19-0bbee3b9a6c5",
   "metadata": {},
   "source": [
    "## Arithmetic Expression Examples\n",
    "\n",
    "In this section, we will demonstrate some basic arithmetic operations using code examples."
   ]
  },
  {
   "cell_type": "code",
   "execution_count": 19,
   "id": "5b635bec-7360-437b-a581-e913735e8a94",
   "metadata": {},
   "outputs": [
    {
     "data": {
      "text/plain": [
       "9"
      ]
     },
     "execution_count": 19,
     "metadata": {},
     "output_type": "execute_result"
    }
   ],
   "source": [
    "# Arithmetic operations\n",
    "code = compile(\"5 + 4\", \"<string>\", \"eval\")\n",
    "eval(code)\n",
    "# Result: 9"
   ]
  },
  {
   "cell_type": "code",
   "execution_count": 21,
   "id": "7734e498-39ea-4dc0-a92c-3845c36504eb",
   "metadata": {},
   "outputs": [
    {
     "data": {
      "text/plain": [
       "6"
      ]
     },
     "execution_count": 21,
     "metadata": {},
     "output_type": "execute_result"
    }
   ],
   "source": [
    "# Arithmetic operations\n",
    "code = compile(\"5 + 1\", \"<string>\", \"eval\")\n",
    "eval(code)\n",
    "# Result: 6"
   ]
  },
  {
   "attachments": {},
   "cell_type": "markdown",
   "id": "f1fec483-e503-4968-a884-c25e280c648e",
   "metadata": {},
   "source": [
    "# Multiplying and adding numbers\n",
    "\n",
    "# Define numbers\n",
    "a = 5\n",
    "b = 10\n",
    "\n",
    "# Multiply\n",
    "product = a * b\n",
    "\n",
    "# Add\n",
    "sum_result = a + b\n",
    "\n",
    "product, sum_result"
   ]
  },
  {
   "cell_type": "code",
   "execution_count": 24,
   "id": "c5943061-a024-497f-9006-3d488d224767",
   "metadata": {},
   "outputs": [
    {
     "data": {
      "text/plain": [
       "2.0"
      ]
     },
     "execution_count": 24,
     "metadata": {},
     "output_type": "execute_result"
    }
   ],
   "source": [
    "# Convert minutes to hours\n",
    "\n",
    "def minutes_to_hours(minutes):\n",
    "    hours = minutes / 60\n",
    "    return hours\n",
    "\n",
    "# Example usage\n",
    "minutes = 120\n",
    "hours = minutes_to_hours(minutes)\n",
    "hours"
   ]
  },
  {
   "cell_type": "markdown",
   "id": "a1d96a0e-28b9-41ad-8583-c14cf89e52e3",
   "metadata": {},
   "source": [
    "## Objectives\n",
    "\n",
    "By the end of this notebook, you will be able to:\n",
    "\n",
    "- Understand the key programming languages used in Data Science.\n",
    "- Identify important libraries and tools for data analysis and machine learning.\n",
    "- Perform basic arithmetic operations and conversions using code."
   ]
  },
  {
   "cell_type": "markdown",
   "id": "b274468e-c2ed-49f7-b693-3d3fca2d863b",
   "metadata": {},
   "source": [
    "## Author\n",
    "\n",
    "Anshul"
   ]
  }
 ],
 "metadata": {
  "kernelspec": {
   "display_name": "Python 3 (ipykernel)",
   "language": "python",
   "name": "python3"
  },
  "language_info": {
   "codemirror_mode": {
    "name": "ipython",
    "version": 3
   },
   "file_extension": ".py",
   "mimetype": "text/x-python",
   "name": "python",
   "nbconvert_exporter": "python",
   "pygments_lexer": "ipython3",
   "version": "3.12.4"
  }
 },
 "nbformat": 4,
 "nbformat_minor": 5
}
